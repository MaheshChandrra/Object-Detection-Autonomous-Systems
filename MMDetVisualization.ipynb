{
 "cells": [
  {
   "cell_type": "code",
   "execution_count": 1,
   "id": "1860ff94-a483-4d6a-9dbb-bfc3a629b67e",
   "metadata": {
    "ExecuteTime": {
     "end_time": "2022-08-02T16:57:19.485692Z",
     "start_time": "2022-08-02T16:57:15.578321Z"
    }
   },
   "outputs": [],
   "source": [
    "import torch\n",
    "import mmcv"
   ]
  },
  {
   "cell_type": "code",
   "execution_count": 2,
   "id": "e63a2a47-3b30-475f-b8d8-282ce271ece7",
   "metadata": {},
   "outputs": [
    {
     "data": {
      "text/plain": [
       "'1.4.8'"
      ]
     },
     "execution_count": 2,
     "metadata": {},
     "output_type": "execute_result"
    }
   ],
   "source": [
    "mmcv.__version__"
   ]
  },
  {
   "cell_type": "code",
   "execution_count": 3,
   "id": "1730385f-ca4d-47d0-b0cd-408a84bebb66",
   "metadata": {},
   "outputs": [
    {
     "data": {
      "text/plain": [
       "'/home/014615510'"
      ]
     },
     "execution_count": 3,
     "metadata": {},
     "output_type": "execute_result"
    }
   ],
   "source": [
    "pwd"
   ]
  },
  {
   "cell_type": "code",
   "execution_count": 2,
   "id": "ba9a17c0-4ae6-41d2-86e0-4a5405168d28",
   "metadata": {
    "ExecuteTime": {
     "end_time": "2022-08-02T16:57:19.501695Z",
     "start_time": "2022-08-02T16:57:19.491692Z"
    }
   },
   "outputs": [
    {
     "name": "stdout",
     "output_type": "stream",
     "text": [
      "C:\\Users\\user1\\OneDrive - sjsu.edu\\Desktop\\Mahesh\\Semester Subjects\\Sem 3 SJSU\\CMPE 249\\3D Detection OpenDet\\mmdetection3d\n"
     ]
    }
   ],
   "source": [
    "%cd mmdetection3d/"
   ]
  },
  {
   "cell_type": "code",
   "execution_count": 6,
   "id": "010bb294",
   "metadata": {
    "ExecuteTime": {
     "end_time": "2022-08-02T06:20:42.224623Z",
     "start_time": "2022-08-02T05:51:00.453814Z"
    }
   },
   "outputs": [
    {
     "name": "stdout",
     "output_type": "stream",
     "text": [
      "^C\n"
     ]
    }
   ],
   "source": [
    "!python tools/misc/visualize_results.py configs/pointpillars/hv_pointpillars_secfpn_6x8_160e_kitti-3d-3class.py --result ../results.pkl --show-dir ./"
   ]
  },
  {
   "cell_type": "code",
   "execution_count": 7,
   "id": "e9f0b3d8",
   "metadata": {
    "ExecuteTime": {
     "end_time": "2022-08-02T06:33:33.062582Z",
     "start_time": "2022-08-02T06:32:19.014695Z"
    }
   },
   "outputs": [
    {
     "name": "stdout",
     "output_type": "stream",
     "text": [
      "[Open3D WARNING] invalid color in PaintUniformColor, clipping to [0, 1]\n",
      "[Open3D WARNING] invalid color in PaintUniformColor, clipping to [0, 1]\n",
      "[Open3D WARNING] invalid color in PaintUniformColor, clipping to [0, 1]\n",
      "[Open3D WARNING] invalid color in PaintUniformColor, clipping to [0, 1]\n",
      "[Open3D WARNING] invalid color in PaintUniformColor, clipping to [0, 1]\n",
      "[Open3D WARNING] invalid color in PaintUniformColor, clipping to [0, 1]\n",
      "[Open3D WARNING] invalid color in PaintUniformColor, clipping to [0, 1]\n",
      "[Open3D WARNING] invalid color in PaintUniformColor, clipping to [0, 1]\n",
      "[Open3D WARNING] invalid color in PaintUniformColor, clipping to [0, 1]\n",
      "[Open3D WARNING] invalid color in PaintUniformColor, clipping to [0, 1]\n",
      "[Open3D WARNING] invalid color in PaintUniformColor, clipping to [0, 1]\n",
      "[Open3D WARNING] invalid color in PaintUniformColor, clipping to [0, 1]\n",
      "[Open3D WARNING] invalid color in PaintUniformColor, clipping to [0, 1]\n",
      "[Open3D WARNING] invalid color in PaintUniformColor, clipping to [0, 1]\n",
      "[Open3D WARNING] invalid color in PaintUniformColor, clipping to [0, 1]\n",
      "[Open3D WARNING] invalid color in PaintUniformColor, clipping to [0, 1]\n"
     ]
    },
    {
     "name": "stderr",
     "output_type": "stream",
     "text": [
      "Traceback (most recent call last):\n",
      "  File \"tools/misc/visualize_results.py\", line 50, in <module>\n",
      "    main()\n",
      "  File \"tools/misc/visualize_results.py\", line 40, in main\n",
      "    dataset.show(results, args.show_dir, pipeline=eval_pipeline)\n",
      "  File \"C:\\Users\\user1\\anaconda3\\envs\\mmdet3d\\lib\\site-packages\\mmdet3d\\datasets\\kitti_dataset.py\", line 742, in show\n",
      "    i, pipeline, ['points', 'img_metas', 'img'])\n",
      "  File \"C:\\Users\\user1\\anaconda3\\envs\\mmdet3d\\lib\\site-packages\\mmdet3d\\datasets\\custom_3d.py\", line 397, in _extract_data\n",
      "    example = pipeline(input_dict)\n",
      "  File \"C:\\Users\\user1\\anaconda3\\envs\\mmdet3d\\lib\\site-packages\\mmdet3d\\datasets\\pipelines\\compose.py\", line 49, in __call__\n",
      "    data = t(data)\n",
      "  File \"C:\\Users\\user1\\anaconda3\\envs\\mmdet3d\\lib\\site-packages\\mmdet3d\\datasets\\pipelines\\loading.py\", line 421, in __call__\n",
      "    points = self._load_points(pts_filename)\n",
      "  File \"C:\\Users\\user1\\anaconda3\\envs\\mmdet3d\\lib\\site-packages\\mmdet3d\\datasets\\pipelines\\loading.py\", line 397, in _load_points\n",
      "    pts_bytes = self.file_client.get(pts_filename)\n",
      "  File \"C:\\Users\\user1\\anaconda3\\envs\\mmdet3d\\lib\\site-packages\\mmcv\\fileio\\file_client.py\", line 993, in get\n",
      "    return self.client.get(filepath)\n",
      "  File \"C:\\Users\\user1\\anaconda3\\envs\\mmdet3d\\lib\\site-packages\\mmcv\\fileio\\file_client.py\", line 518, in get\n",
      "    with open(filepath, 'rb') as f:\n",
      "FileNotFoundError: [Errno 2] No such file or directory: 'data/kitti/training\\\\velodyne_reduced\\\\000002.bin'\n",
      "Traceback (most recent call last):\n",
      "  File \"tools/misc/visualize_results.py\", line 50, in <module>\n",
      "    main()\n",
      "  File \"tools/misc/visualize_results.py\", line 40, in main\n",
      "    dataset.show(results, args.show_dir, pipeline=eval_pipeline)\n",
      "  File \"C:\\Users\\user1\\anaconda3\\envs\\mmdet3d\\lib\\site-packages\\mmdet3d\\datasets\\kitti_dataset.py\", line 742, in show\n",
      "    i, pipeline, ['points', 'img_metas', 'img'])\n",
      "  File \"C:\\Users\\user1\\anaconda3\\envs\\mmdet3d\\lib\\site-packages\\mmdet3d\\datasets\\custom_3d.py\", line 397, in _extract_data\n",
      "    example = pipeline(input_dict)\n",
      "  File \"C:\\Users\\user1\\anaconda3\\envs\\mmdet3d\\lib\\site-packages\\mmdet3d\\datasets\\pipelines\\compose.py\", line 49, in __call__\n",
      "    data = t(data)\n",
      "  File \"C:\\Users\\user1\\anaconda3\\envs\\mmdet3d\\lib\\site-packages\\mmdet3d\\datasets\\pipelines\\loading.py\", line 421, in __call__\n",
      "    points = self._load_points(pts_filename)\n",
      "  File \"C:\\Users\\user1\\anaconda3\\envs\\mmdet3d\\lib\\site-packages\\mmdet3d\\datasets\\pipelines\\loading.py\", line 397, in _load_points\n",
      "    pts_bytes = self.file_client.get(pts_filename)\n",
      "  File \"C:\\Users\\user1\\anaconda3\\envs\\mmdet3d\\lib\\site-packages\\mmcv\\fileio\\file_client.py\", line 993, in get\n",
      "    return self.client.get(filepath)\n",
      "  File \"C:\\Users\\user1\\anaconda3\\envs\\mmdet3d\\lib\\site-packages\\mmcv\\fileio\\file_client.py\", line 518, in get\n",
      "    with open(filepath, 'rb') as f:\n",
      "FileNotFoundError: [Errno 2] No such file or directory: 'data/kitti/training\\\\velodyne_reduced\\\\000002.bin'\n"
     ]
    },
    {
     "name": "stdout",
     "output_type": "stream",
     "text": [
      "[Open3D WARNING] invalid color in PaintUniformColor, clipping to [0, 1]\n",
      "[Open3D WARNING] invalid color in PaintUniformColor, clipping to [0, 1]\n",
      "[Open3D WARNING] invalid color in PaintUniformColor, clipping to [0, 1]\n",
      "[Open3D WARNING] invalid color in PaintUniformColor, clipping to [0, 1]\n",
      "[Open3D WARNING] invalid color in PaintUniformColor, clipping to [0, 1]\n",
      "[Open3D WARNING] invalid color in PaintUniformColor, clipping to [0, 1]\n",
      "[Open3D WARNING] invalid color in PaintUniformColor, clipping to [0, 1]\n",
      "[Open3D WARNING] invalid color in PaintUniformColor, clipping to [0, 1]\n",
      "[Open3D WARNING] invalid color in PaintUniformColor, clipping to [0, 1]\n",
      "[Open3D WARNING] invalid color in PaintUniformColor, clipping to [0, 1]\n",
      "[Open3D WARNING] invalid color in PaintUniformColor, clipping to [0, 1]\n",
      "[Open3D WARNING] invalid color in PaintUniformColor, clipping to [0, 1]\n",
      "[Open3D WARNING] invalid color in PaintUniformColor, clipping to [0, 1]\n",
      "[Open3D WARNING] invalid color in PaintUniformColor, clipping to [0, 1]\n",
      "[Open3D WARNING] invalid color in PaintUniformColor, clipping to [0, 1]\n",
      "[Open3D WARNING] [ViewControl] SetViewPoint() failed because window height and width are not set.\n"
     ]
    }
   ],
   "source": [
    "!python tools/misc/visualize_results.py configs/pointpillars/hv_pointpillars_secfpn_6x8_160e_kitti-3d-3class.py --result ../results_pp.pkl --show-dir ./"
   ]
  },
  {
   "cell_type": "code",
   "execution_count": 3,
   "id": "58950a13",
   "metadata": {
    "ExecuteTime": {
     "end_time": "2022-08-02T21:38:54.540189Z",
     "start_time": "2022-08-02T16:57:29.407207Z"
    }
   },
   "outputs": [
    {
     "name": "stdout",
     "output_type": "stream",
     "text": [
      "^C\n"
     ]
    }
   ],
   "source": [
    "!python tools/misc/visualize_results.py configs/3dssd/3dssd_4x4_kitti-3d-car.py --result ../results_ssd.pkl --show-dir ./"
   ]
  },
  {
   "cell_type": "code",
   "execution_count": null,
   "id": "828a7015",
   "metadata": {},
   "outputs": [],
   "source": []
  },
  {
   "cell_type": "code",
   "execution_count": 12,
   "id": "5579dbbf",
   "metadata": {
    "ExecuteTime": {
     "end_time": "2022-08-02T07:33:19.340105Z",
     "start_time": "2022-08-02T07:33:19.260991Z"
    }
   },
   "outputs": [
    {
     "ename": "SyntaxError",
     "evalue": "invalid syntax (929841726.py, line 1)",
     "output_type": "error",
     "traceback": [
      "\u001b[1;36m  File \u001b[1;32m\"C:\\Users\\user1\\AppData\\Local\\Temp\\ipykernel_30784\\929841726.py\"\u001b[1;36m, line \u001b[1;32m1\u001b[0m\n\u001b[1;33m    python demo/webcam_demo.py configs/pointpillars/hv_pointpillars_secfpn_6x8_160e_kitti-3d-3class.py \\\u001b[0m\n\u001b[1;37m              ^\u001b[0m\n\u001b[1;31mSyntaxError\u001b[0m\u001b[1;31m:\u001b[0m invalid syntax\n"
     ]
    }
   ],
   "source": [
    "python demo/webcam_demo.py configs/pointpillars/hv_pointpillars_secfpn_6x8_160e_kitti-3d-3class.py work_dirs\\3dssd_4x4_kitti-3d-car\\latest.pth "
   ]
  },
  {
   "cell_type": "code",
   "execution_count": 8,
   "id": "d27fac32",
   "metadata": {
    "ExecuteTime": {
     "end_time": "2022-08-02T08:26:25.124087Z",
     "start_time": "2022-08-02T08:26:24.958474Z"
    }
   },
   "outputs": [
    {
     "ename": "KeyError",
     "evalue": "'SSD3DNet is not in the models registry'",
     "output_type": "error",
     "traceback": [
      "\u001b[1;31m---------------------------------------------------------------------------\u001b[0m",
      "\u001b[1;31mKeyError\u001b[0m                                  Traceback (most recent call last)",
      "\u001b[1;32m~\\AppData\\Local\\Temp\\ipykernel_21780\\1407874310.py\u001b[0m in \u001b[0;36m<module>\u001b[1;34m\u001b[0m\n\u001b[0;32m     49\u001b[0m \u001b[1;33m\u001b[0m\u001b[0m\n\u001b[0;32m     50\u001b[0m \u001b[1;32mif\u001b[0m \u001b[0m__name__\u001b[0m \u001b[1;33m==\u001b[0m \u001b[1;34m'__main__'\u001b[0m\u001b[1;33m:\u001b[0m\u001b[1;33m\u001b[0m\u001b[1;33m\u001b[0m\u001b[0m\n\u001b[1;32m---> 51\u001b[1;33m     \u001b[0mmain\u001b[0m\u001b[1;33m(\u001b[0m\u001b[1;33m)\u001b[0m\u001b[1;33m\u001b[0m\u001b[1;33m\u001b[0m\u001b[0m\n\u001b[0m",
      "\u001b[1;32m~\\AppData\\Local\\Temp\\ipykernel_21780\\1407874310.py\u001b[0m in \u001b[0;36mmain\u001b[1;34m()\u001b[0m\n\u001b[0;32m     31\u001b[0m \u001b[1;33m\u001b[0m\u001b[0m\n\u001b[0;32m     32\u001b[0m     model = init_detector(\"configs/3dssd/3dssd_4x4_kitti-3d-car.py \",\n\u001b[1;32m---> 33\u001b[1;33m                           \"work_dirs\\3dssd_4x4_kitti-3d-car\\latest.pth\", device=device)\n\u001b[0m\u001b[0;32m     34\u001b[0m \u001b[1;33m\u001b[0m\u001b[0m\n\u001b[0;32m     35\u001b[0m     \u001b[0mcamera\u001b[0m \u001b[1;33m=\u001b[0m \u001b[0mcv2\u001b[0m\u001b[1;33m.\u001b[0m\u001b[0mVideoCapture\u001b[0m\u001b[1;33m(\u001b[0m\u001b[0margs\u001b[0m\u001b[1;33m.\u001b[0m\u001b[0mcamera_id\u001b[0m\u001b[1;33m)\u001b[0m\u001b[1;33m\u001b[0m\u001b[1;33m\u001b[0m\u001b[0m\n",
      "\u001b[1;32m~\\anaconda3\\envs\\mmdet3d\\lib\\site-packages\\mmdet\\apis\\inference.py\u001b[0m in \u001b[0;36minit_detector\u001b[1;34m(config, checkpoint, device, cfg_options)\u001b[0m\n\u001b[0;32m     42\u001b[0m         \u001b[0mconfig\u001b[0m\u001b[1;33m.\u001b[0m\u001b[0mmodel\u001b[0m\u001b[1;33m.\u001b[0m\u001b[0mbackbone\u001b[0m\u001b[1;33m.\u001b[0m\u001b[0minit_cfg\u001b[0m \u001b[1;33m=\u001b[0m \u001b[1;32mNone\u001b[0m\u001b[1;33m\u001b[0m\u001b[1;33m\u001b[0m\u001b[0m\n\u001b[0;32m     43\u001b[0m     \u001b[0mconfig\u001b[0m\u001b[1;33m.\u001b[0m\u001b[0mmodel\u001b[0m\u001b[1;33m.\u001b[0m\u001b[0mtrain_cfg\u001b[0m \u001b[1;33m=\u001b[0m \u001b[1;32mNone\u001b[0m\u001b[1;33m\u001b[0m\u001b[1;33m\u001b[0m\u001b[0m\n\u001b[1;32m---> 44\u001b[1;33m     \u001b[0mmodel\u001b[0m \u001b[1;33m=\u001b[0m \u001b[0mbuild_detector\u001b[0m\u001b[1;33m(\u001b[0m\u001b[0mconfig\u001b[0m\u001b[1;33m.\u001b[0m\u001b[0mmodel\u001b[0m\u001b[1;33m,\u001b[0m \u001b[0mtest_cfg\u001b[0m\u001b[1;33m=\u001b[0m\u001b[0mconfig\u001b[0m\u001b[1;33m.\u001b[0m\u001b[0mget\u001b[0m\u001b[1;33m(\u001b[0m\u001b[1;34m'test_cfg'\u001b[0m\u001b[1;33m)\u001b[0m\u001b[1;33m)\u001b[0m\u001b[1;33m\u001b[0m\u001b[1;33m\u001b[0m\u001b[0m\n\u001b[0m\u001b[0;32m     45\u001b[0m     \u001b[1;32mif\u001b[0m \u001b[0mcheckpoint\u001b[0m \u001b[1;32mis\u001b[0m \u001b[1;32mnot\u001b[0m \u001b[1;32mNone\u001b[0m\u001b[1;33m:\u001b[0m\u001b[1;33m\u001b[0m\u001b[1;33m\u001b[0m\u001b[0m\n\u001b[0;32m     46\u001b[0m         \u001b[0mcheckpoint\u001b[0m \u001b[1;33m=\u001b[0m \u001b[0mload_checkpoint\u001b[0m\u001b[1;33m(\u001b[0m\u001b[0mmodel\u001b[0m\u001b[1;33m,\u001b[0m \u001b[0mcheckpoint\u001b[0m\u001b[1;33m,\u001b[0m \u001b[0mmap_location\u001b[0m\u001b[1;33m=\u001b[0m\u001b[1;34m'cpu'\u001b[0m\u001b[1;33m)\u001b[0m\u001b[1;33m\u001b[0m\u001b[1;33m\u001b[0m\u001b[0m\n",
      "\u001b[1;32m~\\anaconda3\\envs\\mmdet3d\\lib\\site-packages\\mmdet\\models\\builder.py\u001b[0m in \u001b[0;36mbuild_detector\u001b[1;34m(cfg, train_cfg, test_cfg)\u001b[0m\n\u001b[0;32m     57\u001b[0m         \u001b[1;34m'test_cfg specified in both outer field and model field '\u001b[0m\u001b[1;33m\u001b[0m\u001b[1;33m\u001b[0m\u001b[0m\n\u001b[0;32m     58\u001b[0m     return DETECTORS.build(\n\u001b[1;32m---> 59\u001b[1;33m         cfg, default_args=dict(train_cfg=train_cfg, test_cfg=test_cfg))\n\u001b[0m",
      "\u001b[1;32m~\\anaconda3\\envs\\mmdet3d\\lib\\site-packages\\mmcv\\utils\\registry.py\u001b[0m in \u001b[0;36mbuild\u001b[1;34m(self, *args, **kwargs)\u001b[0m\n\u001b[0;32m    210\u001b[0m \u001b[1;33m\u001b[0m\u001b[0m\n\u001b[0;32m    211\u001b[0m     \u001b[1;32mdef\u001b[0m \u001b[0mbuild\u001b[0m\u001b[1;33m(\u001b[0m\u001b[0mself\u001b[0m\u001b[1;33m,\u001b[0m \u001b[1;33m*\u001b[0m\u001b[0margs\u001b[0m\u001b[1;33m,\u001b[0m \u001b[1;33m**\u001b[0m\u001b[0mkwargs\u001b[0m\u001b[1;33m)\u001b[0m\u001b[1;33m:\u001b[0m\u001b[1;33m\u001b[0m\u001b[1;33m\u001b[0m\u001b[0m\n\u001b[1;32m--> 212\u001b[1;33m         \u001b[1;32mreturn\u001b[0m \u001b[0mself\u001b[0m\u001b[1;33m.\u001b[0m\u001b[0mbuild_func\u001b[0m\u001b[1;33m(\u001b[0m\u001b[1;33m*\u001b[0m\u001b[0margs\u001b[0m\u001b[1;33m,\u001b[0m \u001b[1;33m**\u001b[0m\u001b[0mkwargs\u001b[0m\u001b[1;33m,\u001b[0m \u001b[0mregistry\u001b[0m\u001b[1;33m=\u001b[0m\u001b[0mself\u001b[0m\u001b[1;33m)\u001b[0m\u001b[1;33m\u001b[0m\u001b[1;33m\u001b[0m\u001b[0m\n\u001b[0m\u001b[0;32m    213\u001b[0m \u001b[1;33m\u001b[0m\u001b[0m\n\u001b[0;32m    214\u001b[0m     \u001b[1;32mdef\u001b[0m \u001b[0m_add_children\u001b[0m\u001b[1;33m(\u001b[0m\u001b[0mself\u001b[0m\u001b[1;33m,\u001b[0m \u001b[0mregistry\u001b[0m\u001b[1;33m)\u001b[0m\u001b[1;33m:\u001b[0m\u001b[1;33m\u001b[0m\u001b[1;33m\u001b[0m\u001b[0m\n",
      "\u001b[1;32m~\\anaconda3\\envs\\mmdet3d\\lib\\site-packages\\mmcv\\cnn\\builder.py\u001b[0m in \u001b[0;36mbuild_model_from_cfg\u001b[1;34m(cfg, registry, default_args)\u001b[0m\n\u001b[0;32m     25\u001b[0m         \u001b[1;32mreturn\u001b[0m \u001b[0mSequential\u001b[0m\u001b[1;33m(\u001b[0m\u001b[1;33m*\u001b[0m\u001b[0mmodules\u001b[0m\u001b[1;33m)\u001b[0m\u001b[1;33m\u001b[0m\u001b[1;33m\u001b[0m\u001b[0m\n\u001b[0;32m     26\u001b[0m     \u001b[1;32melse\u001b[0m\u001b[1;33m:\u001b[0m\u001b[1;33m\u001b[0m\u001b[1;33m\u001b[0m\u001b[0m\n\u001b[1;32m---> 27\u001b[1;33m         \u001b[1;32mreturn\u001b[0m \u001b[0mbuild_from_cfg\u001b[0m\u001b[1;33m(\u001b[0m\u001b[0mcfg\u001b[0m\u001b[1;33m,\u001b[0m \u001b[0mregistry\u001b[0m\u001b[1;33m,\u001b[0m \u001b[0mdefault_args\u001b[0m\u001b[1;33m)\u001b[0m\u001b[1;33m\u001b[0m\u001b[1;33m\u001b[0m\u001b[0m\n\u001b[0m\u001b[0;32m     28\u001b[0m \u001b[1;33m\u001b[0m\u001b[0m\n\u001b[0;32m     29\u001b[0m \u001b[1;33m\u001b[0m\u001b[0m\n",
      "\u001b[1;32m~\\anaconda3\\envs\\mmdet3d\\lib\\site-packages\\mmcv\\utils\\registry.py\u001b[0m in \u001b[0;36mbuild_from_cfg\u001b[1;34m(cfg, registry, default_args)\u001b[0m\n\u001b[0;32m     43\u001b[0m         \u001b[1;32mif\u001b[0m \u001b[0mobj_cls\u001b[0m \u001b[1;32mis\u001b[0m \u001b[1;32mNone\u001b[0m\u001b[1;33m:\u001b[0m\u001b[1;33m\u001b[0m\u001b[1;33m\u001b[0m\u001b[0m\n\u001b[0;32m     44\u001b[0m             raise KeyError(\n\u001b[1;32m---> 45\u001b[1;33m                 f'{obj_type} is not in the {registry.name} registry')\n\u001b[0m\u001b[0;32m     46\u001b[0m     \u001b[1;32melif\u001b[0m \u001b[0minspect\u001b[0m\u001b[1;33m.\u001b[0m\u001b[0misclass\u001b[0m\u001b[1;33m(\u001b[0m\u001b[0mobj_type\u001b[0m\u001b[1;33m)\u001b[0m\u001b[1;33m:\u001b[0m\u001b[1;33m\u001b[0m\u001b[1;33m\u001b[0m\u001b[0m\n\u001b[0;32m     47\u001b[0m         \u001b[0mobj_cls\u001b[0m \u001b[1;33m=\u001b[0m \u001b[0mobj_type\u001b[0m\u001b[1;33m\u001b[0m\u001b[1;33m\u001b[0m\u001b[0m\n",
      "\u001b[1;31mKeyError\u001b[0m: 'SSD3DNet is not in the models registry'"
     ]
    }
   ],
   "source": [
    "# Copyright (c) OpenMMLab. All rights reserved.\n",
    "import argparse\n",
    "\n",
    "import cv2\n",
    "import torch\n",
    "\n",
    "from mmdet.apis import inference_detector, init_detector\n",
    "\n",
    "\n",
    "def parse_args():\n",
    "    parser = argparse.ArgumentParser(description='MMDetection webcam demo')\n",
    "    parser.add_argument('config', help='test config file path')\n",
    "    parser.add_argument('checkpoint', help='checkpoint file')\n",
    "    parser.add_argument(\n",
    "        '--device', type=str, default='cuda:0', help='CPU/CUDA device option')\n",
    "    parser.add_argument(\n",
    "        '--camera-id', type=int, default=0, help='camera device id')\n",
    "    parser.add_argument(\n",
    "        '--score-thr', type=float, default=0.5, help='bbox score threshold')\n",
    "    args = parser.parse_args()\n",
    "    return args\n",
    "\n",
    "\n",
    "def main():\n",
    "    #args = parse_args()\n",
    "\n",
    "    device = torch.device(\"cuda:0\")\n",
    "\n",
    "#     model = init_detector(\"configs\\pointpillars\\hv_pointpillars_secfpn_6x8_160e_kitti-3d-3class.py \",\n",
    "#                           \"work_dirs\\hv_pointpillars_secfpn_6x8_160e_kitti-3d-3class\\latest.pth\", device=device)\n",
    "    \n",
    "    model = init_detector(\"configs/3dssd/3dssd_4x4_kitti-3d-car.py \",\n",
    "                          \"work_dirs\\3dssd_4x4_kitti-3d-car\\latest.pth\", device=device)\n",
    "\n",
    "    camera = cv2.VideoCapture(args.camera_id)\n",
    "\n",
    "    print('Press \"Esc\", \"q\" or \"Q\" to exit.')\n",
    "    while True:\n",
    "        ret_val, img = camera.read()\n",
    "        result = inference_detector(model, img)\n",
    "\n",
    "        ch = cv2.waitKey(1)\n",
    "        if ch == 27 or ch == ord('q') or ch == ord('Q'):\n",
    "            break\n",
    "\n",
    "        model.show_result(\n",
    "            img, result, score_thr=args.score_thr, wait_time=1, show=True)\n",
    "\n",
    "\n",
    "if __name__ == '__main__':\n",
    "    main()"
   ]
  },
  {
   "cell_type": "code",
   "execution_count": 5,
   "id": "9482e65c",
   "metadata": {
    "ExecuteTime": {
     "end_time": "2022-08-02T08:24:04.982441Z",
     "start_time": "2022-08-02T08:24:04.955305Z"
    }
   },
   "outputs": [
    {
     "data": {
      "text/plain": [
       "'C:\\\\Users\\\\user1\\\\OneDrive - sjsu.edu\\\\Desktop\\\\Mahesh\\\\Semester Subjects\\\\Sem 3 SJSU\\\\CMPE 249\\\\3D Detection OpenDet\\\\mmdetection3d'"
      ]
     },
     "execution_count": 5,
     "metadata": {},
     "output_type": "execute_result"
    }
   ],
   "source": []
  },
  {
   "cell_type": "code",
   "execution_count": null,
   "id": "4e61a5e1",
   "metadata": {},
   "outputs": [],
   "source": []
  },
  {
   "cell_type": "code",
   "execution_count": null,
   "id": "efaa2a1f",
   "metadata": {},
   "outputs": [],
   "source": [
    "!python demo/webcam_demo.py configs/recognition/i3d/i3d_r50_video_inference_32x2x1_100e_kinetics400_rgb.py \\\n",
    "  mmdetection3d\\work_dirs\\3dssd_4x4_kitti-3d-car\\latest.pth tools/data/kinetics/label_map_k400.txt \\\n",
    "  --average-size 5 --threshold 0.2"
   ]
  },
  {
   "cell_type": "code",
   "execution_count": 20,
   "id": "30a84e44",
   "metadata": {
    "ExecuteTime": {
     "end_time": "2022-08-01T17:49:28.750581Z",
     "start_time": "2022-08-01T17:49:27.393508Z"
    }
   },
   "outputs": [
    {
     "ename": "ModuleNotFoundError",
     "evalue": "No module named 'openpyxl'",
     "output_type": "error",
     "traceback": [
      "\u001b[1;31m---------------------------------------------------------------------------\u001b[0m",
      "\u001b[1;31mModuleNotFoundError\u001b[0m                       Traceback (most recent call last)",
      "Input \u001b[1;32mIn [20]\u001b[0m, in \u001b[0;36m<cell line: 2>\u001b[1;34m()\u001b[0m\n\u001b[0;32m      1\u001b[0m \u001b[38;5;28;01mimport\u001b[39;00m \u001b[38;5;21;01mpandas\u001b[39;00m \u001b[38;5;28;01mas\u001b[39;00m \u001b[38;5;21;01mpd\u001b[39;00m\n\u001b[1;32m----> 2\u001b[0m \u001b[43mpd\u001b[49m\u001b[38;5;241;43m.\u001b[39;49m\u001b[43mDataFrame\u001b[49m\u001b[43m(\u001b[49m\u001b[43mdata\u001b[49m\u001b[38;5;241;43m=\u001b[39;49m\u001b[43mres\u001b[49m\u001b[38;5;241;43m.\u001b[39;49m\u001b[43mitems\u001b[49m\u001b[43m(\u001b[49m\u001b[43m)\u001b[49m\u001b[43m,\u001b[49m\u001b[43mcolumns\u001b[49m\u001b[38;5;241;43m=\u001b[39;49m\u001b[43m[\u001b[49m\u001b[38;5;124;43m\"\u001b[39;49m\u001b[38;5;124;43mMetirc\u001b[39;49m\u001b[38;5;124;43m\"\u001b[39;49m\u001b[43m,\u001b[49m\u001b[38;5;124;43m\"\u001b[39;49m\u001b[38;5;124;43mScore\u001b[39;49m\u001b[38;5;124;43m\"\u001b[39;49m\u001b[43m]\u001b[49m\u001b[43m)\u001b[49m\u001b[38;5;241;43m.\u001b[39;49m\u001b[43mto_excel\u001b[49m\u001b[43m(\u001b[49m\u001b[38;5;124;43m\"\u001b[39;49m\u001b[38;5;124;43mresults_xl.xlsx\u001b[39;49m\u001b[38;5;124;43m\"\u001b[39;49m\u001b[43m)\u001b[49m\n",
      "File \u001b[1;32m~\\anaconda3\\envs\\mmdet\\lib\\site-packages\\pandas\\core\\generic.py:2345\u001b[0m, in \u001b[0;36mNDFrame.to_excel\u001b[1;34m(self, excel_writer, sheet_name, na_rep, float_format, columns, header, index, index_label, startrow, startcol, engine, merge_cells, encoding, inf_rep, verbose, freeze_panes, storage_options)\u001b[0m\n\u001b[0;32m   2332\u001b[0m \u001b[38;5;28;01mfrom\u001b[39;00m \u001b[38;5;21;01mpandas\u001b[39;00m\u001b[38;5;21;01m.\u001b[39;00m\u001b[38;5;21;01mio\u001b[39;00m\u001b[38;5;21;01m.\u001b[39;00m\u001b[38;5;21;01mformats\u001b[39;00m\u001b[38;5;21;01m.\u001b[39;00m\u001b[38;5;21;01mexcel\u001b[39;00m \u001b[38;5;28;01mimport\u001b[39;00m ExcelFormatter\n\u001b[0;32m   2334\u001b[0m formatter \u001b[38;5;241m=\u001b[39m ExcelFormatter(\n\u001b[0;32m   2335\u001b[0m     df,\n\u001b[0;32m   2336\u001b[0m     na_rep\u001b[38;5;241m=\u001b[39mna_rep,\n\u001b[1;32m   (...)\u001b[0m\n\u001b[0;32m   2343\u001b[0m     inf_rep\u001b[38;5;241m=\u001b[39minf_rep,\n\u001b[0;32m   2344\u001b[0m )\n\u001b[1;32m-> 2345\u001b[0m \u001b[43mformatter\u001b[49m\u001b[38;5;241;43m.\u001b[39;49m\u001b[43mwrite\u001b[49m\u001b[43m(\u001b[49m\n\u001b[0;32m   2346\u001b[0m \u001b[43m    \u001b[49m\u001b[43mexcel_writer\u001b[49m\u001b[43m,\u001b[49m\n\u001b[0;32m   2347\u001b[0m \u001b[43m    \u001b[49m\u001b[43msheet_name\u001b[49m\u001b[38;5;241;43m=\u001b[39;49m\u001b[43msheet_name\u001b[49m\u001b[43m,\u001b[49m\n\u001b[0;32m   2348\u001b[0m \u001b[43m    \u001b[49m\u001b[43mstartrow\u001b[49m\u001b[38;5;241;43m=\u001b[39;49m\u001b[43mstartrow\u001b[49m\u001b[43m,\u001b[49m\n\u001b[0;32m   2349\u001b[0m \u001b[43m    \u001b[49m\u001b[43mstartcol\u001b[49m\u001b[38;5;241;43m=\u001b[39;49m\u001b[43mstartcol\u001b[49m\u001b[43m,\u001b[49m\n\u001b[0;32m   2350\u001b[0m \u001b[43m    \u001b[49m\u001b[43mfreeze_panes\u001b[49m\u001b[38;5;241;43m=\u001b[39;49m\u001b[43mfreeze_panes\u001b[49m\u001b[43m,\u001b[49m\n\u001b[0;32m   2351\u001b[0m \u001b[43m    \u001b[49m\u001b[43mengine\u001b[49m\u001b[38;5;241;43m=\u001b[39;49m\u001b[43mengine\u001b[49m\u001b[43m,\u001b[49m\n\u001b[0;32m   2352\u001b[0m \u001b[43m    \u001b[49m\u001b[43mstorage_options\u001b[49m\u001b[38;5;241;43m=\u001b[39;49m\u001b[43mstorage_options\u001b[49m\u001b[43m,\u001b[49m\n\u001b[0;32m   2353\u001b[0m \u001b[43m\u001b[49m\u001b[43m)\u001b[49m\n",
      "File \u001b[1;32m~\\anaconda3\\envs\\mmdet\\lib\\site-packages\\pandas\\io\\formats\\excel.py:888\u001b[0m, in \u001b[0;36mExcelFormatter.write\u001b[1;34m(self, writer, sheet_name, startrow, startcol, freeze_panes, engine, storage_options)\u001b[0m\n\u001b[0;32m    884\u001b[0m     need_save \u001b[38;5;241m=\u001b[39m \u001b[38;5;28;01mFalse\u001b[39;00m\n\u001b[0;32m    885\u001b[0m \u001b[38;5;28;01melse\u001b[39;00m:\n\u001b[0;32m    886\u001b[0m     \u001b[38;5;66;03m# error: Cannot instantiate abstract class 'ExcelWriter' with abstract\u001b[39;00m\n\u001b[0;32m    887\u001b[0m     \u001b[38;5;66;03m# attributes 'engine', 'save', 'supported_extensions' and 'write_cells'\u001b[39;00m\n\u001b[1;32m--> 888\u001b[0m     writer \u001b[38;5;241m=\u001b[39m \u001b[43mExcelWriter\u001b[49m\u001b[43m(\u001b[49m\u001b[43m  \u001b[49m\u001b[38;5;66;43;03m# type: ignore[abstract]\u001b[39;49;00m\n\u001b[0;32m    889\u001b[0m \u001b[43m        \u001b[49m\u001b[43mwriter\u001b[49m\u001b[43m,\u001b[49m\u001b[43m \u001b[49m\u001b[43mengine\u001b[49m\u001b[38;5;241;43m=\u001b[39;49m\u001b[43mengine\u001b[49m\u001b[43m,\u001b[49m\u001b[43m \u001b[49m\u001b[43mstorage_options\u001b[49m\u001b[38;5;241;43m=\u001b[39;49m\u001b[43mstorage_options\u001b[49m\n\u001b[0;32m    890\u001b[0m \u001b[43m    \u001b[49m\u001b[43m)\u001b[49m\n\u001b[0;32m    891\u001b[0m     need_save \u001b[38;5;241m=\u001b[39m \u001b[38;5;28;01mTrue\u001b[39;00m\n\u001b[0;32m    893\u001b[0m \u001b[38;5;28;01mtry\u001b[39;00m:\n",
      "File \u001b[1;32m~\\anaconda3\\envs\\mmdet\\lib\\site-packages\\pandas\\io\\excel\\_openpyxl.py:49\u001b[0m, in \u001b[0;36mOpenpyxlWriter.__init__\u001b[1;34m(self, path, engine, date_format, datetime_format, mode, storage_options, if_sheet_exists, engine_kwargs, **kwargs)\u001b[0m\n\u001b[0;32m     36\u001b[0m \u001b[38;5;28;01mdef\u001b[39;00m \u001b[38;5;21m__init__\u001b[39m(\n\u001b[0;32m     37\u001b[0m     \u001b[38;5;28mself\u001b[39m,\n\u001b[0;32m     38\u001b[0m     path,\n\u001b[1;32m   (...)\u001b[0m\n\u001b[0;32m     47\u001b[0m ):\n\u001b[0;32m     48\u001b[0m     \u001b[38;5;66;03m# Use the openpyxl module as the Excel writer.\u001b[39;00m\n\u001b[1;32m---> 49\u001b[0m     \u001b[38;5;28;01mfrom\u001b[39;00m \u001b[38;5;21;01mopenpyxl\u001b[39;00m\u001b[38;5;21;01m.\u001b[39;00m\u001b[38;5;21;01mworkbook\u001b[39;00m \u001b[38;5;28;01mimport\u001b[39;00m Workbook\n\u001b[0;32m     51\u001b[0m     engine_kwargs \u001b[38;5;241m=\u001b[39m combine_kwargs(engine_kwargs, kwargs)\n\u001b[0;32m     53\u001b[0m     \u001b[38;5;28msuper\u001b[39m()\u001b[38;5;241m.\u001b[39m\u001b[38;5;21m__init__\u001b[39m(\n\u001b[0;32m     54\u001b[0m         path,\n\u001b[0;32m     55\u001b[0m         mode\u001b[38;5;241m=\u001b[39mmode,\n\u001b[1;32m   (...)\u001b[0m\n\u001b[0;32m     58\u001b[0m         engine_kwargs\u001b[38;5;241m=\u001b[39mengine_kwargs,\n\u001b[0;32m     59\u001b[0m     )\n",
      "\u001b[1;31mModuleNotFoundError\u001b[0m: No module named 'openpyxl'"
     ]
    }
   ],
   "source": [
    "import pandas as pd\n",
    "res={'KITTI/Pedestrian_3D_AP11_easy_strict': 46.8825,' KITTI/Pedestrian_BEV_AP11_easy_strict': 52.6199,' KITTI/Pedestrian_2D_AP11_easy_strict': 58.0315,' KITTI/Pedestrian_3D_AP11_moderate_strict': 43.4084,' KITTI/Pedestrian_BEV_AP11_moderate_strict': 49.3806,' KITTI/Pedestrian_2D_AP11_moderate_strict': 52.9995,' KITTI/Pedestrian_3D_AP11_hard_strict': 40.3093,' KITTI/Pedestrian_BEV_AP11_hard_strict': 44.4210,' KITTI/Pedestrian_2D_AP11_hard_strict': 49.3011,' KITTI/Pedestrian_3D_AP11_easy_loose': 64.3519,' KITTI/Pedestrian_BEV_AP11_easy_loose': 64.3519,' KITTI/Pedestrian_2D_AP11_easy_loose': 58.0315,' KITTI/Pedestrian_3D_AP11_moderate_loose': 59.2039,' KITTI/Pedestrian_BEV_AP11_moderate_loose': 59.2044,' KITTI/Pedestrian_2D_AP11_moderate_loose': 52.9995,' KITTI/Pedestrian_3D_AP11_hard_loose': 54.9458,' KITTI/Pedestrian_BEV_AP11_hard_loose': 54.9460,' KITTI/Pedestrian_2D_AP11_hard_loose': 49.3011,' KITTI/Cyclist_3D_AP11_easy_strict': 66.2332,' KITTI/Cyclist_BEV_AP11_easy_strict': 68.5547,' KITTI/Cyclist_2D_AP11_easy_strict': 74.7830,' KITTI/Cyclist_3D_AP11_moderate_strict': 56.1330,' KITTI/Cyclist_BEV_AP11_moderate_strict': 58.8457,' KITTI/Cyclist_2D_AP11_moderate_strict': 66.0819,' KITTI/Cyclist_3D_AP11_hard_strict': 51.8521,' KITTI/Cyclist_BEV_AP11_hard_strict': 54.9952,' KITTI/Cyclist_2D_AP11_hard_strict': 62.7254,' KITTI/Cyclist_3D_AP11_easy_loose': 73.7670,' KITTI/Cyclist_BEV_AP11_easy_loose': 73.7670,' KITTI/Cyclist_2D_AP11_easy_loose': 74.7830,' KITTI/Cyclist_3D_AP11_moderate_loose': 62.8863,' KITTI/Cyclist_BEV_AP11_moderate_loose': 62.8863,' KITTI/Cyclist_2D_AP11_moderate_loose': 66.0819,' KITTI/Cyclist_3D_AP11_hard_loose': 59.1637,' KITTI/Cyclist_BEV_AP11_hard_loose': 59.1637,' KITTI/Cyclist_2D_AP11_hard_loose': 62.7254,' KITTI/Car_3D_AP11_easy_strict': 72.8388,' KITTI/Car_BEV_AP11_easy_strict': 87.5810,' KITTI/Car_2D_AP11_easy_strict': 89.5797,' KITTI/Car_3D_AP11_moderate_strict': 61.0226,' KITTI/Car_BEV_AP11_moderate_strict': 78.0484,' KITTI/Car_2D_AP11_moderate_strict': 83.9301,' KITTI/Car_3D_AP11_hard_strict': 56.4602,' KITTI/Car_BEV_AP11_hard_strict': 74.5539,' KITTI/Car_2D_AP11_hard_strict': 78.9143,' KITTI/Car_3D_AP11_easy_loose': 90.2806,' KITTI/Car_BEV_AP11_easy_loose': 90.4195,' KITTI/Car_2D_AP11_easy_loose': 89.5797,' KITTI/Car_3D_AP11_moderate_loose': 87.7687,' KITTI/Car_BEV_AP11_moderate_loose': 88.6829,' KITTI/Car_2D_AP11_moderate_loose': 83.9301,' KITTI/Car_3D_AP11_hard_loose': 80.1293,' KITTI/Car_BEV_AP11_hard_loose': 85.5577,' KITTI/Car_2D_AP11_hard_loose': 78.9143,' KITTI/Overall_3D_AP11_easy': 61.9849,' KITTI/Overall_BEV_AP11_easy': 69.5852,' KITTI/Overall_2D_AP11_easy': 74.1314,' KITTI/Overall_3D_AP11_moderate': 53.5213,' KITTI/Overall_BEV_AP11_moderate': 62.0916,' KITTI/Overall_2D_AP11_moderate': 67.6705,' KITTI/Overall_3D_AP11_hard': 49.5405,' KITTI/Overall_BEV_AP11_hard': 57.9900,' KITTI/Overall_2D_AP11_hard': 63.6469,' KITTI/Pedestrian_3D_AP40_easy_strict': 44.9826,' KITTI/Pedestrian_BEV_AP40_easy_strict': 52.0274,' KITTI/Pedestrian_2D_AP40_easy_strict': 57.1520,' KITTI/Pedestrian_3D_AP40_moderate_strict': 41.2263,' KITTI/Pedestrian_BEV_AP40_moderate_strict': 47.4052,' KITTI/Pedestrian_2D_AP40_moderate_strict': 51.9504,' KITTI/Pedestrian_3D_AP40_hard_strict': 37.2658,' KITTI/Pedestrian_BEV_AP40_hard_strict': 42.9592,' KITTI/Pedestrian_2D_AP40_hard_strict': 47.4728,' KITTI/Pedestrian_3D_AP40_easy_loose': 64.9181,' KITTI/Pedestrian_BEV_AP40_easy_loose': 64.9187,' KITTI/Pedestrian_2D_AP40_easy_loose': 57.1520,' KITTI/Pedestrian_3D_AP40_moderate_loose': 59.0318,' KITTI/Pedestrian_BEV_AP40_moderate_loose': 59.0324,' KITTI/Pedestrian_2D_AP40_moderate_loose': 51.9504,' KITTI/Pedestrian_3D_AP40_hard_loose': 53.8815,' KITTI/Pedestrian_BEV_AP40_hard_loose': 53.8820,' KITTI/Pedestrian_2D_AP40_hard_loose': 47.4728,' KITTI/Cyclist_3D_AP40_easy_strict': 66.3782,' KITTI/Cyclist_BEV_AP40_easy_strict': 70.0135,' KITTI/Cyclist_2D_AP40_easy_strict': 76.5268,' KITTI/Cyclist_3D_AP40_moderate_strict': 55.6255,' KITTI/Cyclist_BEV_AP40_moderate_strict': 58.5654,' KITTI/Cyclist_2D_AP40_moderate_strict': 66.1087,' KITTI/Cyclist_3D_AP40_hard_strict': 51.7446,' KITTI/Cyclist_BEV_AP40_hard_strict': 54.7123,' KITTI/Cyclist_2D_AP40_hard_strict': 62.7105,' KITTI/Cyclist_3D_AP40_easy_loose': 74.6387,' KITTI/Cyclist_BEV_AP40_easy_loose': 74.6387,' KITTI/Cyclist_2D_AP40_easy_loose': 76.5268,' KITTI/Cyclist_3D_AP40_moderate_loose': 62.7096,' KITTI/Cyclist_BEV_AP40_moderate_loose': 62.7096,' KITTI/Cyclist_2D_AP40_moderate_loose': 66.1087,' KITTI/Cyclist_3D_AP40_hard_loose': 59.3096,' KITTI/Cyclist_BEV_AP40_hard_loose': 59.3096,' KITTI/Cyclist_2D_AP40_hard_loose': 62.7105,' KITTI/Car_3D_AP40_easy_strict': 74.2447,' KITTI/Car_BEV_AP40_easy_strict': 90.4759,' KITTI/Car_2D_AP40_easy_strict': 94.6239,' KITTI/Car_3D_AP40_moderate_strict': 60.3346,' KITTI/Car_BEV_AP40_moderate_strict': 81.0021,' KITTI/Car_2D_AP40_moderate_strict': 85.4599,' KITTI/Car_3D_AP40_hard_strict': 55.9301,' KITTI/Car_BEV_AP40_hard_strict': 74.8079,' KITTI/Car_2D_AP40_hard_strict': 80.7634,' KITTI/Car_3D_AP40_easy_loose': 95.5937,' KITTI/Car_BEV_AP40_easy_loose': 95.9356,' KITTI/Car_2D_AP40_easy_loose': 94.6239,' KITTI/Car_3D_AP40_moderate_loose': 88.8438,' KITTI/Car_BEV_AP40_moderate_loose': 91.2881,' KITTI/Car_2D_AP40_moderate_loose': 85.4599,' KITTI/Car_3D_AP40_hard_loose': 84.1840,' KITTI/Car_BEV_AP40_hard_loose': 86.7584,' KITTI/Car_2D_AP40_hard_loose': 80.7634,' KITTI/Overall_3D_AP40_easy': 61.8685,' KITTI/Overall_BEV_AP40_easy': 70.8389,' KITTI/Overall_2D_AP40_easy': 76.1009,' KITTI/Overall_3D_AP40_moderate': 52.3955,' KITTI/Overall_BEV_AP40_moderate': 62.3242,' KITTI/Overall_2D_AP40_moderate': 67.8396,' KITTI/Overall_3D_AP40_hard': 48.3135,' KITTI/Overall_BEV_AP40_hard': 57.4932,' KITTI/Overall_2D_AP40_hard': 63.6489}\n",
    "pd.DataFrame(data=res.items(),columns=[\"Metirc\",\"Score\"]).to_excel(\"results_xl.xlsx\")"
   ]
  },
  {
   "cell_type": "code",
   "execution_count": null,
   "id": "43bb20fd",
   "metadata": {},
   "outputs": [],
   "source": []
  }
 ],
 "metadata": {
  "kernelspec": {
   "display_name": "Python 3",
   "language": "python",
   "name": "python3"
  },
  "language_info": {
   "codemirror_mode": {
    "name": "ipython",
    "version": 3
   },
   "file_extension": ".py",
   "mimetype": "text/x-python",
   "name": "python",
   "nbconvert_exporter": "python",
   "pygments_lexer": "ipython3",
   "version": "3.8.8"
  },
  "toc": {
   "base_numbering": 1,
   "nav_menu": {},
   "number_sections": true,
   "sideBar": true,
   "skip_h1_title": false,
   "title_cell": "Table of Contents",
   "title_sidebar": "Contents",
   "toc_cell": false,
   "toc_position": {},
   "toc_section_display": true,
   "toc_window_display": false
  }
 },
 "nbformat": 4,
 "nbformat_minor": 5
}
